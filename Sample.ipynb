{
 "cells": [
  {
   "cell_type": "code",
   "execution_count": 32,
   "metadata": {
    "colab": {
     "base_uri": "https://localhost:8080/",
     "height": 233
    },
    "colab_type": "code",
    "executionInfo": {
     "elapsed": 795,
     "status": "error",
     "timestamp": 1538750523341,
     "user": {
      "displayName": "Vadim Strijov",
      "photoUrl": "",
      "userId": "14161420619746394875"
     },
     "user_tz": -180
    },
    "id": "QxmLMEehrW2Q",
    "outputId": "db24f52a-f925-48b3-aec4-5e5cd3e171a8"
   },
   "outputs": [],
   "source": [
    "import pickle\n",
    "import numpy as np\n",
    "\n",
    "X_train, y_train, X_train_skel_features = None, None, None\n",
    "with open(\"train_info\", \"rb\") as fin:\n",
    "    data = pickle.load(fin)\n",
    "    X_train, y_train, X_train_skel_features = data[\"data\"], data[\"labels\"], data[\"skel_features\"]\n",
    "\n",
    "X_test, y_test, X_test_skel_features = None, None, None\n",
    "with open(\"test_info\", \"rb\") as fin:\n",
    "    data = pickle.load(fin)\n",
    "    X_test, y_test, X_test_skel_features = data[\"data\"], data[\"labels\"], data[\"skel_features\"]"
   ]
  },
  {
   "cell_type": "code",
   "execution_count": 5,
   "metadata": {
    "colab": {},
    "colab_type": "code",
    "id": "XIlXYrafrW2U"
   },
   "outputs": [],
   "source": [
    "def get_edges_ged_rad(skel_features):\n",
    "    edges_x = []\n",
    "    edges_y = []\n",
    "    degs = set()\n",
    "    rads = set()\n",
    "    for i, d in enumerate(skel_features):\n",
    "        if i % 4 == 0:\n",
    "            edges_x.append(d)\n",
    "        if i % 4 == 1:\n",
    "            edges_y.append(d)\n",
    "        if i % 4 == 2:\n",
    "            degs.add((edges_x[-1], edges_y[-1], d))\n",
    "        if i % 4 == 3:\n",
    "            rads.add((edges_x[-1], edges_y[-1], d))\n",
    "    \n",
    "    return edges_x, edges_y, list(degs), list(rads)"
   ]
  },
  {
   "cell_type": "code",
   "execution_count": 6,
   "metadata": {
    "colab": {},
    "colab_type": "code",
    "id": "kR_D_rtMrW2X"
   },
   "outputs": [],
   "source": [
    "def draw_skeleton(image, features):\n",
    "    res_x, res_y, res_deg, res_rad = get_edges_ged_rad(features)\n",
    "    \n",
    "    fig = plt.figure(figsize=(18, 8))\n",
    "\n",
    "    ax = fig.add_subplot(121)\n",
    "    ax.imshow(image.reshape((s, s)), cmap=\"gray\", interpolation=\"none\")\n",
    "\n",
    "    for i in range(0, len(res_x), 2):\n",
    "        ax.plot(res_x[i:i + 2], s - np.array(res_y[i:i + 2]), color=\"black\")\n",
    "\n",
    "    for i in range(len(res_deg)):\n",
    "        x, y, d = res_deg[i]\n",
    "        ax.scatter([x], [s - y], color=\"blue\", s=5)\n",
    "        ax.text(x, s - y, str(int(d)), fontsize=16, color=\"red\")\n",
    "\n",
    "    ax = fig.add_subplot(122)\n",
    "\n",
    "    ax.imshow(image.reshape((s, s)), cmap=\"gray\", interpolation=\"none\")\n",
    "\n",
    "    for i in range(0, len(res_x), 2):\n",
    "        ax.plot(res_x[i:i + 2], s - np.array(res_y[i:i + 2]), color=\"black\")\n",
    "\n",
    "    for i in range(len(res_rad)):\n",
    "        x, y, r = res_deg[i]\n",
    "        circle = plt.Circle((x, s - y), r, color=\"cyan\", ls=\"-\", linewidth=2, fill=False)\n",
    "        ax.scatter([x], [s - y], color=\"blue\", s=5)\n",
    "        ax.add_patch(circle)\n",
    "\n",
    "    fig.show()"
   ]
  },
  {
   "cell_type": "code",
   "execution_count": 7,
   "metadata": {
    "colab": {},
    "colab_type": "code",
    "id": "mzH6-cvhrW2Z"
   },
   "outputs": [],
   "source": [
    "import matplotlib.pyplot as plt\n",
    "from skimage import io\n",
    "%matplotlib inline"
   ]
  },
  {
   "cell_type": "code",
   "execution_count": 8,
   "metadata": {
    "colab": {},
    "colab_type": "code",
    "id": "lgSi56p-rW2b"
   },
   "outputs": [],
   "source": [
    "s = int(np.sqrt(X_train.shape[1]))"
   ]
  },
  {
   "cell_type": "markdown",
   "metadata": {
    "colab_type": "text",
    "id": "b-TVhF2CrW2d"
   },
   "source": [
    "**ВНИМАНИЕ! Здесь отрисовщик автоматически отражает картинку симметрично по оси Y**"
   ]
  },
  {
   "cell_type": "code",
   "execution_count": null,
   "metadata": {
    "colab": {},
    "colab_type": "code",
    "id": "-9cvZHt0rW2d",
    "scrolled": true
   },
   "outputs": [],
   "source": [
    "for i in range(10):\n",
    "    idx1, idx2 = np.where(y_train == i)[0][:2]\n",
    "    draw_skeleton(X_train[idx1, :], X_train_skel_features[idx1])\n",
    "#     res_x, res_y, res_deg, res_rad = get_edges_ged_rad(X_train_skel_features[idx1])\n",
    "#     y = np.unique(res_deg, axis=0)\n",
    "#     z = [] \n",
    "#     for i in y:\n",
    "#         z.append(tuple(i))\n",
    "#     print(len(res_deg), len(z))\n",
    "    draw_skeleton(X_train[idx2, :], X_train_skel_features[idx2])"
   ]
  },
  {
   "cell_type": "code",
   "execution_count": null,
   "metadata": {
    "colab": {},
    "colab_type": "code",
    "id": "495eHvpNrW2h"
   },
   "outputs": [],
   "source": []
  },
  {
   "cell_type": "markdown",
   "metadata": {},
   "source": [
    "## Data"
   ]
  },
  {
   "cell_type": "code",
   "execution_count": 9,
   "metadata": {},
   "outputs": [],
   "source": [
    "import pandas as pd\n",
    "import math\n",
    "from tqdm import tqdm_notebook as tqdm"
   ]
  },
  {
   "cell_type": "code",
   "execution_count": 12,
   "metadata": {},
   "outputs": [],
   "source": [
    "def add_stat_features(df, array, name):\n",
    "    df[name + '_min'] = [array.min()]\n",
    "    df[name + '_max'] = [array.max()]\n",
    "    df[name + '_std'] = [array.std()]\n",
    "    df[name + '_mean'] = [array.mean()]\n",
    "    \n",
    "\n",
    "def get_features(skelet):\n",
    "    try:\n",
    "        res_x, res_y, res_deg, res_rad = skelet\n",
    "        res_x, res_y = np.array(res_x), np.array(res_y)\n",
    "\n",
    "        vectors = list(zip(res_x[1::2] - res_x[:-1:2], res_y[1::2] - res_y[:-1:2]))\n",
    "\n",
    "        features = pd.DataFrame()\n",
    "        features['num_of_points'] = [len(vectors)]\n",
    "\n",
    "        vec_x = np.array(list(zip(*vectors))[0])\n",
    "        vec_y = np.array(list(zip(*vectors))[1])\n",
    "        add_stat_features(features, vec_x, 'vec_x')\n",
    "        add_stat_features(features, vec_y, 'vec_y')\n",
    "\n",
    "\n",
    "        deg_x, deg_y, deg_r = zip(*res_deg)\n",
    "        deg_r = np.array(deg_r)\n",
    "        add_stat_features(features, deg_r, 'radius')\n",
    "\n",
    "        deg_x, deg_y = np.array(deg_x), np.array(deg_y)\n",
    "        add_stat_features(features, deg_x, 'x_coord')\n",
    "        add_stat_features(features, deg_y, 'y_coord')\n",
    "\n",
    "        vec_lenghts = np.apply_along_axis(lambda x: math.sqrt(x[0] ** 2 + x[1] ** 2), 1, vectors)\n",
    "        add_stat_features(features, vec_lenghts, 'vec_len')\n",
    "\n",
    "        vec_angles = np.apply_along_axis(lambda x: math.atan2(x[1], x[0]), 1, vectors)\n",
    "        add_stat_features(features, vec_angles, 'vec_angles')\n",
    "    \n",
    "        ## hist\n",
    "        num_of_bins = 10\n",
    "        for i in range(num_of_bins + 1):\n",
    "            features['angle_hist_' + str(i)] = 0\n",
    "        for angle in vec_angles:\n",
    "            bar_long = 2 * math.pi / num_of_bins\n",
    "            bar_num = int((angle + math.pi) / bar_long)\n",
    "            feature_name = 'angle_hist_' + str(bar_num)\n",
    "            features[feature_name] = features[feature_name][0] + 1\n",
    "        for i in range(num_of_bins + 1):\n",
    "            features['angle_norm_hist_' + str(i)] = features['angle_hist_' + str(i)] / len(vectors)\n",
    "        return features\n",
    "    except Exception:\n",
    "        raise Exception\n",
    "        return None"
   ]
  },
  {
   "cell_type": "code",
   "execution_count": 36,
   "metadata": {
    "scrolled": true
   },
   "outputs": [
    {
     "data": {
      "application/vnd.jupyter.widget-view+json": {
       "model_id": "a96ae98dbeb043e9ba660a94eab014ba",
       "version_major": 2,
       "version_minor": 0
      },
      "text/plain": [
       "A Jupyter Widget"
      ]
     },
     "metadata": {},
     "output_type": "display_data"
    },
    {
     "data": {
      "application/vnd.jupyter.widget-view+json": {
       "model_id": "a1bb36a6e0bf43a9bbd1c40827507521",
       "version_major": 2,
       "version_minor": 0
      },
      "text/plain": [
       "A Jupyter Widget"
      ]
     },
     "metadata": {},
     "output_type": "display_data"
    },
    {
     "data": {
      "application/vnd.jupyter.widget-view+json": {
       "model_id": "acc8f950a44c488b87678ad7608f3d50",
       "version_major": 2,
       "version_minor": 0
      },
      "text/plain": [
       "A Jupyter Widget"
      ]
     },
     "metadata": {},
     "output_type": "display_data"
    },
    {
     "data": {
      "application/vnd.jupyter.widget-view+json": {
       "model_id": "c524b337239b41fcad967e5fba31e0ad",
       "version_major": 2,
       "version_minor": 0
      },
      "text/plain": [
       "A Jupyter Widget"
      ]
     },
     "metadata": {},
     "output_type": "display_data"
    },
    {
     "data": {
      "application/vnd.jupyter.widget-view+json": {
       "model_id": "36ca883a643d4af8a464e38a502a5628",
       "version_major": 2,
       "version_minor": 0
      },
      "text/plain": [
       "A Jupyter Widget"
      ]
     },
     "metadata": {},
     "output_type": "display_data"
    },
    {
     "data": {
      "application/vnd.jupyter.widget-view+json": {
       "model_id": "33510db354154130a53c9194903c249b",
       "version_major": 2,
       "version_minor": 0
      },
      "text/plain": [
       "A Jupyter Widget"
      ]
     },
     "metadata": {},
     "output_type": "display_data"
    },
    {
     "data": {
      "application/vnd.jupyter.widget-view+json": {
       "model_id": "0e9c184e1fe44389b29c569d1b3ced36",
       "version_major": 2,
       "version_minor": 0
      },
      "text/plain": [
       "A Jupyter Widget"
      ]
     },
     "metadata": {},
     "output_type": "display_data"
    },
    {
     "data": {
      "application/vnd.jupyter.widget-view+json": {
       "model_id": "5a4bb5298af44930a28af1296a0d6f25",
       "version_major": 2,
       "version_minor": 0
      },
      "text/plain": [
       "A Jupyter Widget"
      ]
     },
     "metadata": {},
     "output_type": "display_data"
    },
    {
     "data": {
      "application/vnd.jupyter.widget-view+json": {
       "model_id": "2efe53e86d984c6c923197f7dabc1393",
       "version_major": 2,
       "version_minor": 0
      },
      "text/plain": [
       "A Jupyter Widget"
      ]
     },
     "metadata": {},
     "output_type": "display_data"
    },
    {
     "data": {
      "application/vnd.jupyter.widget-view+json": {
       "model_id": "046804bc53624df89262bb117f25253a",
       "version_major": 2,
       "version_minor": 0
      },
      "text/plain": [
       "A Jupyter Widget"
      ]
     },
     "metadata": {},
     "output_type": "display_data"
    },
    {
     "data": {
      "application/vnd.jupyter.widget-view+json": {
       "model_id": "47943e3f531e47c3bb637763264f5aa5",
       "version_major": 2,
       "version_minor": 0
      },
      "text/plain": [
       "A Jupyter Widget"
      ]
     },
     "metadata": {},
     "output_type": "display_data"
    },
    {
     "name": "stdout",
     "output_type": "stream",
     "text": [
      "\n"
     ]
    }
   ],
   "source": [
    "train = pd.DataFrame()\n",
    "for i in tqdm(range(10), desc='class'):\n",
    "    indexes = np.where(y_train == i)[0]\n",
    "    for ind in tqdm(indexes, desc='instance', leave=False):\n",
    "        skelet = get_edges_ged_rad(X_train_skel_features[ind])\n",
    "        y = y_train[ind]\n",
    "        to_add = get_features(skelet)\n",
    "        if to_add is not None:\n",
    "            to_add['target'] = y\n",
    "            train = pd.concat([train, to_add], ignore_index=True)"
   ]
  },
  {
   "cell_type": "code",
   "execution_count": 37,
   "metadata": {},
   "outputs": [],
   "source": [
    "from sklearn.model_selection import train_test_split"
   ]
  },
  {
   "cell_type": "code",
   "execution_count": 38,
   "metadata": {},
   "outputs": [],
   "source": [
    "X, y = train.drop(['target'], axis=1), train.target\n",
    "Xtrain, Xtest, ytrain, ytest = train_test_split(X, y, test_size=0.33, random_state=42)"
   ]
  },
  {
   "cell_type": "markdown",
   "metadata": {},
   "source": [
    "## LightGDM"
   ]
  },
  {
   "cell_type": "code",
   "execution_count": 59,
   "metadata": {
    "scrolled": true
   },
   "outputs": [
    {
     "name": "stdout",
     "output_type": "stream",
     "text": [
      "[1]\tvalid_0's multi_logloss: 1.38468\n",
      "Training until validation scores don't improve for 5 rounds.\n",
      "[2]\tvalid_0's multi_logloss: 1.09052\n",
      "[3]\tvalid_0's multi_logloss: 0.899727\n",
      "[4]\tvalid_0's multi_logloss: 0.766735\n",
      "[5]\tvalid_0's multi_logloss: 0.667432\n",
      "[6]\tvalid_0's multi_logloss: 0.591289\n",
      "[7]\tvalid_0's multi_logloss: 0.530863\n",
      "[8]\tvalid_0's multi_logloss: 0.48342\n",
      "[9]\tvalid_0's multi_logloss: 0.445269\n",
      "[10]\tvalid_0's multi_logloss: 0.413328\n",
      "[11]\tvalid_0's multi_logloss: 0.387552\n",
      "[12]\tvalid_0's multi_logloss: 0.366013\n",
      "[13]\tvalid_0's multi_logloss: 0.347165\n",
      "[14]\tvalid_0's multi_logloss: 0.331258\n",
      "[15]\tvalid_0's multi_logloss: 0.31744\n",
      "[16]\tvalid_0's multi_logloss: 0.30547\n",
      "[17]\tvalid_0's multi_logloss: 0.29505\n",
      "[18]\tvalid_0's multi_logloss: 0.286046\n",
      "[19]\tvalid_0's multi_logloss: 0.278163\n",
      "[20]\tvalid_0's multi_logloss: 0.271469\n",
      "[21]\tvalid_0's multi_logloss: 0.265607\n",
      "[22]\tvalid_0's multi_logloss: 0.260755\n",
      "[23]\tvalid_0's multi_logloss: 0.255874\n",
      "[24]\tvalid_0's multi_logloss: 0.251208\n",
      "[25]\tvalid_0's multi_logloss: 0.247928\n",
      "[26]\tvalid_0's multi_logloss: 0.244119\n",
      "[27]\tvalid_0's multi_logloss: 0.241246\n",
      "[28]\tvalid_0's multi_logloss: 0.238871\n",
      "[29]\tvalid_0's multi_logloss: 0.235806\n",
      "[30]\tvalid_0's multi_logloss: 0.233354\n",
      "[31]\tvalid_0's multi_logloss: 0.231052\n",
      "[32]\tvalid_0's multi_logloss: 0.229419\n",
      "[33]\tvalid_0's multi_logloss: 0.22767\n",
      "[34]\tvalid_0's multi_logloss: 0.226257\n",
      "[35]\tvalid_0's multi_logloss: 0.224746\n",
      "[36]\tvalid_0's multi_logloss: 0.223161\n",
      "[37]\tvalid_0's multi_logloss: 0.221906\n",
      "[38]\tvalid_0's multi_logloss: 0.220925\n",
      "[39]\tvalid_0's multi_logloss: 0.219877\n",
      "[40]\tvalid_0's multi_logloss: 0.218672\n",
      "[41]\tvalid_0's multi_logloss: 0.217897\n",
      "[42]\tvalid_0's multi_logloss: 0.217275\n",
      "[43]\tvalid_0's multi_logloss: 0.216666\n",
      "[44]\tvalid_0's multi_logloss: 0.215866\n",
      "[45]\tvalid_0's multi_logloss: 0.214991\n",
      "[46]\tvalid_0's multi_logloss: 0.214153\n",
      "[47]\tvalid_0's multi_logloss: 0.213421\n",
      "[48]\tvalid_0's multi_logloss: 0.212816\n",
      "[49]\tvalid_0's multi_logloss: 0.21236\n",
      "[50]\tvalid_0's multi_logloss: 0.212038\n",
      "[51]\tvalid_0's multi_logloss: 0.211499\n",
      "[52]\tvalid_0's multi_logloss: 0.211201\n",
      "[53]\tvalid_0's multi_logloss: 0.210735\n",
      "[54]\tvalid_0's multi_logloss: 0.210595\n",
      "[55]\tvalid_0's multi_logloss: 0.210096\n",
      "[56]\tvalid_0's multi_logloss: 0.209788\n",
      "[57]\tvalid_0's multi_logloss: 0.209614\n",
      "[58]\tvalid_0's multi_logloss: 0.209354\n",
      "[59]\tvalid_0's multi_logloss: 0.209369\n",
      "[60]\tvalid_0's multi_logloss: 0.20914\n",
      "[61]\tvalid_0's multi_logloss: 0.208881\n",
      "[62]\tvalid_0's multi_logloss: 0.208582\n",
      "[63]\tvalid_0's multi_logloss: 0.208517\n",
      "[64]\tvalid_0's multi_logloss: 0.208595\n",
      "[65]\tvalid_0's multi_logloss: 0.208486\n",
      "[66]\tvalid_0's multi_logloss: 0.208506\n",
      "[67]\tvalid_0's multi_logloss: 0.208391\n",
      "[68]\tvalid_0's multi_logloss: 0.208171\n",
      "[69]\tvalid_0's multi_logloss: 0.207877\n",
      "[70]\tvalid_0's multi_logloss: 0.207822\n",
      "[71]\tvalid_0's multi_logloss: 0.207854\n",
      "[72]\tvalid_0's multi_logloss: 0.208087\n",
      "[73]\tvalid_0's multi_logloss: 0.208099\n",
      "[74]\tvalid_0's multi_logloss: 0.208203\n",
      "[75]\tvalid_0's multi_logloss: 0.20826\n",
      "Early stopping, best iteration is:\n",
      "[70]\tvalid_0's multi_logloss: 0.207822\n"
     ]
    },
    {
     "data": {
      "text/plain": [
       "LGBMClassifier(boosting_type='gbdt', class_weight=None, colsample_bytree=1.0,\n",
       "        importance_type='split', learning_rate=0.3, max_depth=-1,\n",
       "        min_child_samples=20, min_child_weight=0.001, min_split_gain=0.0,\n",
       "        n_estimators=300, n_jobs=7, num_class=10, num_leaves=50,\n",
       "        objective=None, random_state=1312, reg_alpha=0.0, reg_lambda=0.8,\n",
       "        silent=True, subsample=1.0, subsample_for_bin=200000,\n",
       "        subsample_freq=0)"
      ]
     },
     "execution_count": 59,
     "metadata": {},
     "output_type": "execute_result"
    }
   ],
   "source": [
    "from sklearn.metrics import accuracy_score\n",
    "from sklearn.model_selection import GridSearchCV\n",
    "import lightgbm as lgb\n",
    "\n",
    "gbm = lgb.LGBMClassifier(num_class=10, learning_rate=0.3, n_jobs=7, n_estimators=300, num_leaves=50, random_state=1312, reg_lambda=0.8)\n",
    "\n",
    "gbm.fit(Xtrain, ytrain,\n",
    "        eval_set=[(Xtest, ytest)],\n",
    "        early_stopping_rounds=5)"
   ]
  },
  {
   "cell_type": "code",
   "execution_count": 56,
   "metadata": {},
   "outputs": [
    {
     "name": "stdout",
     "output_type": "stream",
     "text": [
      "Accuracy: 0.9371212121212121\n"
     ]
    },
    {
     "name": "stderr",
     "output_type": "stream",
     "text": [
      "/Users/artemlukoyanov/anaconda3/lib/python3.6/site-packages/sklearn/preprocessing/label.py:151: DeprecationWarning: The truth value of an empty array is ambiguous. Returning False, but in future this will result in an error. Use `array.size > 0` to check that an array is not empty.\n",
      "  if diff:\n"
     ]
    }
   ],
   "source": [
    "y_pred = gbm.predict(Xtest, num_iteration=gbm.best_iteration_)\n",
    "print('Accuracy:', accuracy_score(ytest, y_pred))"
   ]
  },
  {
   "cell_type": "code",
   "execution_count": null,
   "metadata": {},
   "outputs": [],
   "source": []
  }
 ],
 "metadata": {
  "colab": {
   "name": "Sample.ipynb",
   "provenance": [],
   "version": "0.3.2"
  },
  "kernelspec": {
   "display_name": "Python 3",
   "language": "python",
   "name": "python3"
  },
  "language_info": {
   "codemirror_mode": {
    "name": "ipython",
    "version": 3
   },
   "file_extension": ".py",
   "mimetype": "text/x-python",
   "name": "python",
   "nbconvert_exporter": "python",
   "pygments_lexer": "ipython3",
   "version": "3.6.3"
  }
 },
 "nbformat": 4,
 "nbformat_minor": 1
}
